{
 "cells": [
  {
   "cell_type": "code",
   "execution_count": 38,
   "metadata": {},
   "outputs": [],
   "source": [
    "from random import shuffle\n",
    "\n",
    "from PIL import Image\n",
    "\n",
    "import quantumblur as qb"
   ]
  },
  {
   "cell_type": "code",
   "execution_count": 54,
   "metadata": {},
   "outputs": [
    {
     "data": {
      "image/png": "[encoded data removed]",
      "text/plain": [
       "<PIL.Image.Image image mode=RGB size=60x80 at 0x1FCAC78A980>"
      ]
     },
     "execution_count": 54,
     "metadata": {},
     "output_type": "execute_result"
    }
   ],
   "source": [
    "img = Image.open('minimal_nonsquare.png')\n",
    "# X_MAX ~ WIDTH\n",
    "# Y_MAX ~ HEIGHT\n",
    "X_MAX, Y_MAX = img.size\n",
    "\n",
    "\n",
    "def extract_colors(img, x_size, y_size):\n",
    "    \"\"\"Turn image into 2D array of (r, g, b) tuples.\"\"\"\n",
    "    pixels = img.load()\n",
    "    colors = []\n",
    "    \n",
    "    for x in range(x_size):\n",
    "        row = []\n",
    "        for y in range(y_size):\n",
    "            row.append(pixels[x, y])\n",
    "        colors.append(row)\n",
    "    return colors\n",
    "\n",
    "\n",
    "def upscale_image(img, scale):\n",
    "    \"\"\"Upscale image by scale factor.\"\"\"\n",
    "    width, height = img.size\n",
    "    new_width = width * scale\n",
    "    new_height = height * scale\n",
    "\n",
    "    new_img = Image.new('RGB', (new_width, new_height))\n",
    "    pixels = new_img.load()\n",
    "\n",
    "    for x in range(new_width):\n",
    "        for y in range(new_height):\n",
    "            orig_x = x // scale\n",
    "            orig_y = y // scale\n",
    "            orig_pixel = img.getpixel((orig_x, orig_y))\n",
    "\n",
    "            pixels[x, y] = orig_pixel\n",
    "\n",
    "    return new_img\n",
    "\n",
    "\n",
    "def random_stamp_order(x_size, y_size):\n",
    "    \"\"\"Generate random order to stamp pixels in.\"\"\"\n",
    "    l = [(x, y) for x in range(y_size) for y in range(x_size)]\n",
    "    shuffle(l)\n",
    "    return l\n",
    "\n",
    "\n",
    "def _stamp_in_location(img, location, y_max, x_max, color):\n",
    "    \"\"\"Do a single stamp in a specified location.\"\"\"\n",
    "    y, x = location\n",
    "    pixels = img.load()\n",
    "    \n",
    "    # those will always fit\n",
    "    pixels[x*2, y*2] = color\n",
    "    pixels[x*2, y*2+1] = color\n",
    "    pixels[x*2+1, y*2] = color\n",
    "    pixels[x*2+1, y*2+1] = color\n",
    "    \n",
    "    # those might not fit near the edges\n",
    "    if x != 0:\n",
    "        pixels[x*2-1, y*2] = color\n",
    "        pixels[x*2-1, y*2+1] = color\n",
    "    \n",
    "    if y != 0:\n",
    "        pixels[x*2, y*2-1] = color\n",
    "        pixels[x*2+1, y*2-1] = color\n",
    "\n",
    "    if y < y_max - 1:\n",
    "        pixels[x*2, y*2+2] = color\n",
    "        pixels[x*2+1, y*2+2] = color\n",
    "        \n",
    "    if x < x_max - 1:\n",
    "        pixels[x*2+2, y*2+1] = color\n",
    "        pixels[x*2+2, y*2] = color\n",
    "\n",
    "    return img\n",
    "\n",
    "\n",
    "def stamp_all(img, original_rgb_list, order, y_max, x_max):\n",
    "    \"\"\"Perform all stamping in specified order.\"\"\"\n",
    "    two_x_img = upscale_image(img, 2)\n",
    "    for (x, y) in order:\n",
    "        img = _stamp_in_location(two_x_img, (x, y), y_max, x_max, color=original_rgb_list[y][x])\n",
    "    return img\n",
    "\n",
    "order = random_stamp_order(X_MAX, Y_MAX)\n",
    "original_rgb_list = extract_colors(img, X_MAX, Y_MAX)\n",
    "result = stamp_all(img, original_rgb_list, order, Y_MAX, X_MAX)\n",
    "upscale_image(result, 10)"
   ]
  },
  {
   "cell_type": "code",
   "execution_count": null,
   "metadata": {},
   "outputs": [],
   "source": []
  }
 ],
 "metadata": {
  "kernelspec": {
   "display_name": "Python 3",
   "language": "python",
   "name": "python3"
  },
  "language_info": {
   "codemirror_mode": {
    "name": "ipython",
    "version": 3
   },
   "file_extension": ".py",
   "mimetype": "text/x-python",
   "name": "python",
   "nbconvert_exporter": "python",
   "pygments_lexer": "ipython3",
   "version": "3.10.2"
  },
  "orig_nbformat": 4
 },
 "nbformat": 4,
 "nbformat_minor": 2
}
