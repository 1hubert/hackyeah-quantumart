{
 "cells": [
  {
   "cell_type": "markdown",
   "metadata": {},
   "source": [
    "1. take some picture as an input\n",
    "2. using a quantum algorithm, generate a 'quantum seed' : basically row by row (starting from top) you want to splash a special shape in random columns\n",
    "(example of a special shape:\n",
    " +\n",
    "+++\n",
    " +\n",
    ")\n",
    "3. the quantum algo output will also take a seed \n",
    "4. the outputed image will have the timestamp / hex of the outputed list of lists in a corner\n",
    "5. the goal is to output unique, unpredicatbly scrambled images\n",
    "\n",
    "\n",
    "losowość ustala kolejność nakładania się na siebie powiększonych pikseli (powiekszkonych do jakichś ustalonych kształtów typu plus)\n",
    "\n",
    "3x3 pixel -> 6x6 mapa do stamplowania (będzie 9 stampli)\n",
    "  ++\n",
    " +++++\n",
    "  ++"
   ]
  },
  {
   "cell_type": "code",
   "execution_count": 2,
   "metadata": {},
   "outputs": [],
   "source": [
    "import quantumblur as qb\n",
    "from PIL import Image\n",
    "from random import shuffle"
   ]
  },
  {
   "cell_type": "code",
   "execution_count": 5,
   "metadata": {},
   "outputs": [
    {
     "data": {
      "image/png": "[encoded data removed]",
      "text/plain": [
       "<PIL.Image.Image image mode=RGB size=1000x1000 at 0x1FC982012D0>"
      ]
     },
     "execution_count": 5,
     "metadata": {},
     "output_type": "execute_result"
    }
   ],
   "source": [
    "img = Image.open('frog.png')\n",
    "\n",
    "X_MAX, Y_MAX = img.size\n",
    "\n",
    "def extract_colors(img, x_size, y_size):\n",
    "    pixels = img.load()\n",
    "    colors = []\n",
    "    \n",
    "    for x in range(x_size):\n",
    "        row = []\n",
    "        for y in range(y_size):\n",
    "            row.append(pixels[x, y])\n",
    "        colors.append(row)\n",
    "    return colors\n",
    "\n",
    "# Upscale image by scale factor\n",
    "def upscale_image(img, scale):\n",
    "  width, height = img.size\n",
    "  new_width = width * scale\n",
    "  new_height = height * scale\n",
    "\n",
    "  new_img = Image.new('RGB', (new_width, new_height))\n",
    "  pixels = new_img.load()\n",
    "\n",
    "  for x in range(new_width):\n",
    "    for y in range(new_height):\n",
    "      # Get pixel from original image\n",
    "      orig_x = x // scale\n",
    "      orig_y = y // scale\n",
    "      orig_pixel = img.getpixel((orig_x, orig_y))\n",
    "\n",
    "      # Set scaled pixel  \n",
    "      pixels[x, y] = orig_pixel\n",
    "\n",
    "  return new_img\n",
    "\n",
    "\n",
    "def random_stamp_order(x_size, y_size):\n",
    "    l = [(x, y) for x in range(x_size) for y in range(y_size)]\n",
    "    shuffle(l)\n",
    "    return l\n",
    "\n",
    "\n",
    "def _stamp_in_location(img, location, y_max, x_max, color):\n",
    "    y, x = location\n",
    "    pixels = img.load()\n",
    "    \n",
    "    # those will 100% fit\n",
    "    pixels[x*2, y*2] = color\n",
    "    pixels[x*2, y*2+1] = color\n",
    "    pixels[x*2+1, y*2] = color\n",
    "    pixels[x*2+1, y*2+1] = color\n",
    "    \n",
    "    # those won't fit near the edges\n",
    "    if x != 0:\n",
    "        pixels[x*2-1, y*2] = color\n",
    "        pixels[x*2-1, y*2+1] = color\n",
    "    \n",
    "    if y != 0:\n",
    "        pixels[x*2, y*2-1] = color\n",
    "        pixels[x*2+1, y*2-1] = color\n",
    "\n",
    "    if y < y_max - 1:\n",
    "        pixels[x*2, y*2+2] = color\n",
    "        pixels[x*2+1, y*2+2] = color\n",
    "        \n",
    "    \n",
    "        \n",
    "    if x < x_max - 1:\n",
    "        pixels[x*2+2, y*2+1] = color\n",
    "        pixels[x*2+2, y*2] = color\n",
    "\n",
    "    return img\n",
    "\n",
    "\n",
    "def stamp_all(img, original_rgb_list, order, y_max, x_max):\n",
    "    two_x_img = upscale_image(img, 2)\n",
    "    for (x, y) in order:\n",
    "        img = _stamp_in_location(two_x_img, (x, y), y_max, x_max, color=original_rgb_list[y][x])\n",
    "    return img\n",
    "\n",
    "order = random_stamp_order(X_MAX, Y_MAX)\n",
    "original_rgb_list = extract_colors(img, X_MAX, Y_MAX)\n",
    "result = stamp_all(img, original_rgb_list, order, Y_MAX, X_MAX)\n",
    "result\n",
    "upscale_image(result, 10)"
   ]
  },
  {
   "cell_type": "code",
   "execution_count": null,
   "metadata": {},
   "outputs": [],
   "source": []
  }
 ],
 "metadata": {
  "kernelspec": {
   "display_name": "Python 3",
   "language": "python",
   "name": "python3"
  },
  "language_info": {
   "codemirror_mode": {
    "name": "ipython",
    "version": 3
   },
   "file_extension": ".py",
   "mimetype": "text/x-python",
   "name": "python",
   "nbconvert_exporter": "python",
   "pygments_lexer": "ipython3",
   "version": "3.10.2"
  },
  "orig_nbformat": 4
 },
 "nbformat": 4,
 "nbformat_minor": 2
}
